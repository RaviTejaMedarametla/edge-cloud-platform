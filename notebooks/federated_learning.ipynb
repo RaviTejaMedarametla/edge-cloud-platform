{
 "cells": [
  {
   "cell_type": "markdown",
   "metadata": {},
   "source": [
    "# Federated Learning"
   ]
  },
  {
   "cell_type": "markdown",
   "metadata": {},
   "source": [
    "This demo shows two clients training a small model on local data. After each round the weights are averaged to update a global model."
   ]
  },
  {
   "cell_type": "code",
   "execution_count": null,
   "metadata": {},
   "outputs": [],
   "source": [
    "import torch\n",
    "import torch.nn as nn\n",
    "import torch.optim as optim\n",
    "\n",
    "def generate_data(n=100):\n",
    "    x = torch.randn(n, 2)\n",
    "    y = (x.sum(dim=1) > 0).float().unsqueeze(1)\n",
    "    return x, y\n",
    "\n",
    "class Model(nn.Module):\n",
    "    def __init__(self):\n",
    "        super().__init__()\n",
    "        self.fc = nn.Linear(2, 1)\n",
    "\n",
    "    def forward(self, x):\n",
    "        return torch.sigmoid(self.fc(x))\n",
    "\n",
    "def train(model, data):\n",
    "    x, y = data\n",
    "    criterion = nn.BCELoss()\n",
    "    opt = optim.SGD(model.parameters(), lr=0.1)\n",
    "    for _ in range(5):\n",
    "        opt.zero_grad()\n",
    "        output = model(x)\n",
    "        loss = criterion(output, y)\n",
    "        loss.backward()\n",
    "        opt.step()\n",
    "\n",
    "def get_weights(model):\n",
    "    return [p.data.clone() for p in model.parameters()]\n",
    "\n",
    "def set_weights(model, weights):\n",
    "    for p, w in zip(model.parameters(), weights):\n",
    "        p.data = w.clone()\n",
    "\n",
    "def average(w1, w2):\n",
    "    return [(a + b) / 2 for a, b in zip(w1, w2)]\n",
    "\n",
    "client1_data = generate_data()\n",
    "client2_data = generate_data()\n",
    "\n",
    "global_model = Model()\n",
    "for rnd in range(3):\n",
    "    c1, c2 = Model(), Model()\n",
    "    set_weights(c1, get_weights(global_model))\n",
    "    set_weights(c2, get_weights(global_model))\n",
    "    train(c1, client1_data)\n",
    "    train(c2, client2_data)\n",
    "    new_weights = average(get_weights(c1), get_weights(c2))\n",
    "    set_weights(global_model, new_weights)\n",
    "    print(f'Round {rnd}: {global_model.fc.weight.data.tolist()}')"
   ]
  }
 ],
 "metadata": {
  "kernelspec": {
   "display_name": "Python 3",
   "language": "python",
   "name": "python3"
  },
  "language_info": {
   "name": "python",
   "version": "3.10"
  }
 },
 "nbformat": 4,
 "nbformat_minor": 2
}